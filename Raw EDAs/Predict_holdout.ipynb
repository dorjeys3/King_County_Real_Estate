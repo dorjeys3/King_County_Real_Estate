{
 "cells": [
  {
   "cell_type": "code",
   "execution_count": 16,
   "metadata": {},
   "outputs": [],
   "source": [
    "import pandas as pd\n",
    "import pickle\n",
    "pd.set_option('display.max_columns', 300)"
   ]
  },
  {
   "cell_type": "markdown",
   "metadata": {},
   "source": [
    "## Step 1: Read in hold out data, scalers, and best model"
   ]
  },
  {
   "cell_type": "code",
   "execution_count": 17,
   "metadata": {},
   "outputs": [],
   "source": [
    "\n",
    "holdout = pd.read_csv(\"../datasets/kc_house_data_test_features.csv\", index_col = 0)\n",
    "extra = pd.read_csv(\"../datasets/zip_code_extra_data_fixed.csv\", index_col = 0)\n"
   ]
  },
  {
   "cell_type": "code",
   "execution_count": 18,
   "metadata": {},
   "outputs": [
    {
     "ename": "FileNotFoundError",
     "evalue": "[Errno 2] No such file or directory: 'lm_final.pickle'",
     "output_type": "error",
     "traceback": [
      "\u001b[0;31m---------------------------------------------------------------------------\u001b[0m",
      "\u001b[0;31mFileNotFoundError\u001b[0m                         Traceback (most recent call last)",
      "\u001b[0;32m<ipython-input-18-4be22a50d563>\u001b[0m in \u001b[0;36m<module>\u001b[0;34m()\u001b[0m\n\u001b[0;32m----> 1\u001b[0;31m \u001b[0mprice_prediction_model\u001b[0m\u001b[0;34m=\u001b[0m\u001b[0mpickle\u001b[0m\u001b[0;34m.\u001b[0m\u001b[0mload\u001b[0m\u001b[0;34m(\u001b[0m\u001b[0mopen\u001b[0m\u001b[0;34m(\u001b[0m\u001b[0;34m\"lm_final.pickle\"\u001b[0m\u001b[0;34m,\u001b[0m \u001b[0;34m\"rb\"\u001b[0m\u001b[0;34m)\u001b[0m\u001b[0;34m)\u001b[0m\u001b[0;34m\u001b[0m\u001b[0;34m\u001b[0m\u001b[0m\n\u001b[0m",
      "\u001b[0;31mFileNotFoundError\u001b[0m: [Errno 2] No such file or directory: 'lm_final.pickle'"
     ]
    }
   ],
   "source": [
    "price_prediction_model=pickle.load(open(\"lm_final.pickle\", \"rb\"))"
   ]
  },
  {
   "cell_type": "markdown",
   "metadata": {},
   "source": [
    "## Step 2: Feature Engineering for holdout set"
   ]
  },
  {
   "cell_type": "markdown",
   "metadata": {},
   "source": [
    "Remember we have to perform the same transformations on our holdout data (feature engineering, extreme values, and scaling) that we performed on the original data."
   ]
  },
  {
   "cell_type": "code",
   "execution_count": 19,
   "metadata": {},
   "outputs": [],
   "source": [
    "holdout.head()\n",
    "holdout_date = holdout[[\"date\"]]\n",
    "holdout.drop(columns=[\"date\"], inplace = True)"
   ]
  },
  {
   "cell_type": "code",
   "execution_count": 20,
   "metadata": {},
   "outputs": [
    {
     "name": "stdout",
     "output_type": "stream",
     "text": [
      "(4323, 19)\n"
     ]
    }
   ],
   "source": [
    "print(holdout.shape) \n",
    "holdout.drop(columns=[\"id\"], inplace = True)"
   ]
  },
  {
   "cell_type": "code",
   "execution_count": 21,
   "metadata": {},
   "outputs": [
    {
     "data": {
      "text/plain": [
       "(4323, 1)"
      ]
     },
     "execution_count": 21,
     "metadata": {},
     "output_type": "execute_result"
    }
   ],
   "source": [
    "holdout_date.shape\n"
   ]
  },
  {
   "cell_type": "code",
   "execution_count": 22,
   "metadata": {},
   "outputs": [
    {
     "data": {
      "text/plain": [
       "['bedrooms',\n",
       " 'bathrooms',\n",
       " 'sqft_living',\n",
       " 'sqft_lot',\n",
       " 'floors',\n",
       " 'waterfront',\n",
       " 'view',\n",
       " 'condition',\n",
       " 'grade',\n",
       " 'sqft_above',\n",
       " 'sqft_basement',\n",
       " 'yr_built',\n",
       " 'yr_renovated',\n",
       " 'zipcode',\n",
       " 'lat',\n",
       " 'long',\n",
       " 'sqft_living15',\n",
       " 'sqft_lot15']"
      ]
     },
     "execution_count": 22,
     "metadata": {},
     "output_type": "execute_result"
    }
   ],
   "source": [
    "holdout.columns.to_list()"
   ]
  },
  {
   "cell_type": "code",
   "execution_count": 23,
   "metadata": {},
   "outputs": [],
   "source": [
    "# removes outliers - bedrooms  > 10\n",
    "\n",
    "def cap_max(x, n, data, column):\n",
    "    \"\"\"\n",
    "    x = the column number\n",
    "    n = min number\n",
    "    data = dataframe\n",
    "    column = interested column from dataframe\n",
    "    should be applied in a lambda function.\n",
    "    For example: sales[\"bedrooms\"].apply(lambda x: cutoff(x,10,sales,\"bedrooms\"))\n",
    "    \"\"\"\n",
    "    if x > n:\n",
    "        return data[column].median()\n",
    "    else:\n",
    "        return x\n",
    "\n",
    "holdout[\"bedrooms\"]= holdout[\"bedrooms\"].apply(lambda x: cap_max(x,10,holdout,\"bedrooms\"))  "
   ]
  },
  {
   "cell_type": "code",
   "execution_count": 24,
   "metadata": {},
   "outputs": [],
   "source": [
    "def cap_min(x, n, data, column):\n",
    "    \"\"\"\n",
    "    x = the column number\n",
    "    n = min number\n",
    "    data = dataframe\n",
    "    column = interested column from dataframe\n",
    "    should be applied in a lambda function.\n",
    "    For example: sales[\"bedrooms\"].apply(lambda x: cutoff(x,10,sales,\"bedrooms\"))\n",
    "    \"\"\"\n",
    "    if x == n:\n",
    "        return data[column].median()\n",
    "    else:\n",
    "        return x\n",
    "\n",
    "holdout[\"bathrooms\"]= holdout[\"bathrooms\"].apply(lambda x: cap_min(x,0,holdout,\"bedrooms\"))  "
   ]
  },
  {
   "cell_type": "code",
   "execution_count": 25,
   "metadata": {},
   "outputs": [
    {
     "data": {
      "text/html": [
       "<div>\n",
       "<style scoped>\n",
       "    .dataframe tbody tr th:only-of-type {\n",
       "        vertical-align: middle;\n",
       "    }\n",
       "\n",
       "    .dataframe tbody tr th {\n",
       "        vertical-align: top;\n",
       "    }\n",
       "\n",
       "    .dataframe thead th {\n",
       "        text-align: right;\n",
       "    }\n",
       "</style>\n",
       "<table border=\"1\" class=\"dataframe\">\n",
       "  <thead>\n",
       "    <tr style=\"text-align: right;\">\n",
       "      <th></th>\n",
       "      <th>bedrooms</th>\n",
       "      <th>bathrooms</th>\n",
       "      <th>sqft_living</th>\n",
       "      <th>sqft_lot</th>\n",
       "      <th>floors</th>\n",
       "      <th>waterfront</th>\n",
       "      <th>view</th>\n",
       "      <th>condition</th>\n",
       "      <th>grade</th>\n",
       "      <th>sqft_above</th>\n",
       "      <th>sqft_basement</th>\n",
       "      <th>yr_built</th>\n",
       "      <th>yr_renovated</th>\n",
       "      <th>zipcode</th>\n",
       "      <th>lat</th>\n",
       "      <th>long</th>\n",
       "      <th>sqft_living15</th>\n",
       "      <th>sqft_lot15</th>\n",
       "    </tr>\n",
       "  </thead>\n",
       "  <tbody>\n",
       "    <tr>\n",
       "      <th>0</th>\n",
       "      <td>4</td>\n",
       "      <td>2.50</td>\n",
       "      <td>2270</td>\n",
       "      <td>11500</td>\n",
       "      <td>1.0</td>\n",
       "      <td>0</td>\n",
       "      <td>0</td>\n",
       "      <td>3</td>\n",
       "      <td>8</td>\n",
       "      <td>1540</td>\n",
       "      <td>730</td>\n",
       "      <td>1967</td>\n",
       "      <td>0</td>\n",
       "      <td>98034</td>\n",
       "      <td>47.7089</td>\n",
       "      <td>-122.241</td>\n",
       "      <td>2020</td>\n",
       "      <td>10918</td>\n",
       "    </tr>\n",
       "    <tr>\n",
       "      <th>1</th>\n",
       "      <td>4</td>\n",
       "      <td>2.50</td>\n",
       "      <td>2270</td>\n",
       "      <td>11500</td>\n",
       "      <td>1.0</td>\n",
       "      <td>0</td>\n",
       "      <td>0</td>\n",
       "      <td>3</td>\n",
       "      <td>8</td>\n",
       "      <td>1540</td>\n",
       "      <td>730</td>\n",
       "      <td>1967</td>\n",
       "      <td>0</td>\n",
       "      <td>98034</td>\n",
       "      <td>47.7089</td>\n",
       "      <td>-122.241</td>\n",
       "      <td>2020</td>\n",
       "      <td>10918</td>\n",
       "    </tr>\n",
       "    <tr>\n",
       "      <th>2</th>\n",
       "      <td>3</td>\n",
       "      <td>2.50</td>\n",
       "      <td>1470</td>\n",
       "      <td>1779</td>\n",
       "      <td>2.0</td>\n",
       "      <td>0</td>\n",
       "      <td>0</td>\n",
       "      <td>3</td>\n",
       "      <td>8</td>\n",
       "      <td>1160</td>\n",
       "      <td>310</td>\n",
       "      <td>2005</td>\n",
       "      <td>0</td>\n",
       "      <td>98029</td>\n",
       "      <td>47.5472</td>\n",
       "      <td>-121.998</td>\n",
       "      <td>1470</td>\n",
       "      <td>1576</td>\n",
       "    </tr>\n",
       "    <tr>\n",
       "      <th>3</th>\n",
       "      <td>3</td>\n",
       "      <td>1.75</td>\n",
       "      <td>1280</td>\n",
       "      <td>16200</td>\n",
       "      <td>1.0</td>\n",
       "      <td>0</td>\n",
       "      <td>0</td>\n",
       "      <td>3</td>\n",
       "      <td>8</td>\n",
       "      <td>1030</td>\n",
       "      <td>250</td>\n",
       "      <td>1976</td>\n",
       "      <td>0</td>\n",
       "      <td>98077</td>\n",
       "      <td>47.7427</td>\n",
       "      <td>-122.071</td>\n",
       "      <td>1160</td>\n",
       "      <td>10565</td>\n",
       "    </tr>\n",
       "    <tr>\n",
       "      <th>4</th>\n",
       "      <td>4</td>\n",
       "      <td>2.75</td>\n",
       "      <td>2830</td>\n",
       "      <td>8126</td>\n",
       "      <td>2.0</td>\n",
       "      <td>0</td>\n",
       "      <td>0</td>\n",
       "      <td>3</td>\n",
       "      <td>8</td>\n",
       "      <td>2830</td>\n",
       "      <td>0</td>\n",
       "      <td>2005</td>\n",
       "      <td>0</td>\n",
       "      <td>98059</td>\n",
       "      <td>47.4863</td>\n",
       "      <td>-122.140</td>\n",
       "      <td>2830</td>\n",
       "      <td>7916</td>\n",
       "    </tr>\n",
       "  </tbody>\n",
       "</table>\n",
       "</div>"
      ],
      "text/plain": [
       "   bedrooms  bathrooms  sqft_living  sqft_lot  floors  waterfront  view  \\\n",
       "0         4       2.50         2270     11500     1.0           0     0   \n",
       "1         4       2.50         2270     11500     1.0           0     0   \n",
       "2         3       2.50         1470      1779     2.0           0     0   \n",
       "3         3       1.75         1280     16200     1.0           0     0   \n",
       "4         4       2.75         2830      8126     2.0           0     0   \n",
       "\n",
       "   condition  grade  sqft_above  sqft_basement  yr_built  yr_renovated  \\\n",
       "0          3      8        1540            730      1967             0   \n",
       "1          3      8        1540            730      1967             0   \n",
       "2          3      8        1160            310      2005             0   \n",
       "3          3      8        1030            250      1976             0   \n",
       "4          3      8        2830              0      2005             0   \n",
       "\n",
       "   zipcode      lat     long  sqft_living15  sqft_lot15  \n",
       "0    98034  47.7089 -122.241           2020       10918  \n",
       "1    98034  47.7089 -122.241           2020       10918  \n",
       "2    98029  47.5472 -121.998           1470        1576  \n",
       "3    98077  47.7427 -122.071           1160       10565  \n",
       "4    98059  47.4863 -122.140           2830        7916  "
      ]
     },
     "execution_count": 25,
     "metadata": {},
     "output_type": "execute_result"
    }
   ],
   "source": [
    "holdout.head()"
   ]
  },
  {
   "cell_type": "code",
   "execution_count": 26,
   "metadata": {},
   "outputs": [],
   "source": [
    "holdout = pd.merge(holdout, extra, how='right', on='zipcode')"
   ]
  },
  {
   "cell_type": "code",
   "execution_count": 27,
   "metadata": {},
   "outputs": [
    {
     "data": {
      "text/plain": [
       "(4323, 72)"
      ]
     },
     "execution_count": 27,
     "metadata": {},
     "output_type": "execute_result"
    }
   ],
   "source": [
    "holdout.shape"
   ]
  },
  {
   "cell_type": "code",
   "execution_count": 28,
   "metadata": {},
   "outputs": [
    {
     "data": {
      "text/html": [
       "<div>\n",
       "<style scoped>\n",
       "    .dataframe tbody tr th:only-of-type {\n",
       "        vertical-align: middle;\n",
       "    }\n",
       "\n",
       "    .dataframe tbody tr th {\n",
       "        vertical-align: top;\n",
       "    }\n",
       "\n",
       "    .dataframe thead th {\n",
       "        text-align: right;\n",
       "    }\n",
       "</style>\n",
       "<table border=\"1\" class=\"dataframe\">\n",
       "  <thead>\n",
       "    <tr style=\"text-align: right;\">\n",
       "      <th></th>\n",
       "      <th>date</th>\n",
       "    </tr>\n",
       "  </thead>\n",
       "  <tbody>\n",
       "    <tr>\n",
       "      <th>0</th>\n",
       "      <td>20140827T000000</td>\n",
       "    </tr>\n",
       "    <tr>\n",
       "      <th>1</th>\n",
       "      <td>20150218T000000</td>\n",
       "    </tr>\n",
       "    <tr>\n",
       "      <th>2</th>\n",
       "      <td>20141107T000000</td>\n",
       "    </tr>\n",
       "    <tr>\n",
       "      <th>3</th>\n",
       "      <td>20141203T000000</td>\n",
       "    </tr>\n",
       "    <tr>\n",
       "      <th>4</th>\n",
       "      <td>20150115T000000</td>\n",
       "    </tr>\n",
       "    <tr>\n",
       "      <th>...</th>\n",
       "      <td>...</td>\n",
       "    </tr>\n",
       "    <tr>\n",
       "      <th>4318</th>\n",
       "      <td>20140521T000000</td>\n",
       "    </tr>\n",
       "    <tr>\n",
       "      <th>4319</th>\n",
       "      <td>20150223T000000</td>\n",
       "    </tr>\n",
       "    <tr>\n",
       "      <th>4320</th>\n",
       "      <td>20140623T000000</td>\n",
       "    </tr>\n",
       "    <tr>\n",
       "      <th>4321</th>\n",
       "      <td>20150116T000000</td>\n",
       "    </tr>\n",
       "    <tr>\n",
       "      <th>4322</th>\n",
       "      <td>20141015T000000</td>\n",
       "    </tr>\n",
       "  </tbody>\n",
       "</table>\n",
       "<p>4323 rows × 1 columns</p>\n",
       "</div>"
      ],
      "text/plain": [
       "                 date\n",
       "0     20140827T000000\n",
       "1     20150218T000000\n",
       "2     20141107T000000\n",
       "3     20141203T000000\n",
       "4     20150115T000000\n",
       "...               ...\n",
       "4318  20140521T000000\n",
       "4319  20150223T000000\n",
       "4320  20140623T000000\n",
       "4321  20150116T000000\n",
       "4322  20141015T000000\n",
       "\n",
       "[4323 rows x 1 columns]"
      ]
     },
     "execution_count": 28,
     "metadata": {},
     "output_type": "execute_result"
    }
   ],
   "source": [
    "holdout_date"
   ]
  },
  {
   "cell_type": "code",
   "execution_count": 34,
   "metadata": {},
   "outputs": [],
   "source": [
    "holdout = pd.merge(holdout, holdout_date, how='left', left_index = True, right_index = True)\n",
    "holdout[\"month\"]= pd.DatetimeIndex(holdout[\"date\"]).month\n",
    "holdout.drop(columns=[\"date\"], inplace = True)"
   ]
  },
  {
   "cell_type": "code",
   "execution_count": 35,
   "metadata": {},
   "outputs": [
    {
     "data": {
      "text/plain": [
       "(4323, 74)"
      ]
     },
     "execution_count": 35,
     "metadata": {},
     "output_type": "execute_result"
    }
   ],
   "source": [
    "holdout.shape"
   ]
  },
  {
   "cell_type": "code",
   "execution_count": 36,
   "metadata": {},
   "outputs": [
    {
     "data": {
      "text/plain": [
       "Index(['bedrooms', 'bathrooms', 'sqft_living', 'sqft_lot', 'floors',\n",
       "       'waterfront', 'view', 'condition', 'grade', 'sqft_above',\n",
       "       'sqft_basement', 'yr_built', 'yr_renovated', 'zipcode', 'lat', 'long',\n",
       "       'sqft_living15', 'sqft_lot15', 'full_time_earnings',\n",
       "       'part_time_earnings', 'no_earnings', 'car_truck_van',\n",
       "       'public_transportation', 'taxi', 'motorcycle', 'bike_walk_other',\n",
       "       'work_home', 'less_than_hs', 'high_school_grad', 'associates',\n",
       "       'bachelors', 'masters', 'professional_school_degree', 'doctorate',\n",
       "       'public_school_enrollment', 'private_school_enrollment',\n",
       "       'no_school_enrollment', 'for_rent', 'rented_and_unoccupied',\n",
       "       'for_sale_only', 'sold_and_unoccupied', 'seasonal_or_rec_use',\n",
       "       'migrant_worker_housing', 'vacant_other_reasons',\n",
       "       'in_occupied_housing_units', 'adult_correctional_facility',\n",
       "       'juvenile_facilities', 'nursing_facilities', 'other_institutional',\n",
       "       'military_quarters', 'other_noninstitutional',\n",
       "       'house_owned_with_mortgage', 'house_owned_outright',\n",
       "       'renter_occupied_housing', 'vacant_households',\n",
       "       'husband_and_wife_house', 'single_guardian', 'singles',\n",
       "       'singles_with_roommate', 'male', 'female', 'median_age',\n",
       "       'male_median_age', 'female_median_age', 'population',\n",
       "       'population_density_per_sq_mile', 'total_housing_units',\n",
       "       'median_home_value', 'land_area', 'water_area_sq_mile',\n",
       "       'occupied_housing_units', 'median_household_income', 'month',\n",
       "       'miles_from_downtown'],\n",
       "      dtype='object')"
      ]
     },
     "execution_count": 36,
     "metadata": {},
     "output_type": "execute_result"
    }
   ],
   "source": [
    "holdout.columns"
   ]
  },
  {
   "cell_type": "code",
   "execution_count": 37,
   "metadata": {},
   "outputs": [],
   "source": [
    "from geopy.distance import geodesic\n",
    "downtown = (47.609862, -122.342056) \n",
    "holdout['coords'] = tuple(zip(holdout['lat'],holdout['long']))\n",
    "x = holdout['coords'].apply(lambda x: geodesic(downtown,x))\n",
    "holdout['miles_from_downtown'] = x.astype(str).str[:-3].astype(float)\n",
    "holdout.drop(columns = \"coords\", inplace = True)"
   ]
  },
  {
   "cell_type": "code",
   "execution_count": 33,
   "metadata": {},
   "outputs": [
    {
     "data": {
      "text/plain": [
       "(4323, 74)"
      ]
     },
     "execution_count": 33,
     "metadata": {},
     "output_type": "execute_result"
    }
   ],
   "source": [
    "holdout.shape"
   ]
  },
  {
   "cell_type": "code",
   "execution_count": 38,
   "metadata": {},
   "outputs": [
    {
     "data": {
      "text/plain": [
       "Index(['bedrooms', 'bathrooms', 'sqft_living', 'sqft_lot', 'floors',\n",
       "       'waterfront', 'view', 'condition', 'grade', 'sqft_above',\n",
       "       'sqft_basement', 'yr_built', 'yr_renovated', 'zipcode', 'lat', 'long',\n",
       "       'sqft_living15', 'sqft_lot15', 'full_time_earnings',\n",
       "       'part_time_earnings', 'no_earnings', 'car_truck_van',\n",
       "       'public_transportation', 'taxi', 'motorcycle', 'bike_walk_other',\n",
       "       'work_home', 'less_than_hs', 'high_school_grad', 'associates',\n",
       "       'bachelors', 'masters', 'professional_school_degree', 'doctorate',\n",
       "       'public_school_enrollment', 'private_school_enrollment',\n",
       "       'no_school_enrollment', 'for_rent', 'rented_and_unoccupied',\n",
       "       'for_sale_only', 'sold_and_unoccupied', 'seasonal_or_rec_use',\n",
       "       'migrant_worker_housing', 'vacant_other_reasons',\n",
       "       'in_occupied_housing_units', 'adult_correctional_facility',\n",
       "       'juvenile_facilities', 'nursing_facilities', 'other_institutional',\n",
       "       'military_quarters', 'other_noninstitutional',\n",
       "       'house_owned_with_mortgage', 'house_owned_outright',\n",
       "       'renter_occupied_housing', 'vacant_households',\n",
       "       'husband_and_wife_house', 'single_guardian', 'singles',\n",
       "       'singles_with_roommate', 'male', 'female', 'median_age',\n",
       "       'male_median_age', 'female_median_age', 'population',\n",
       "       'population_density_per_sq_mile', 'total_housing_units',\n",
       "       'median_home_value', 'land_area', 'water_area_sq_mile',\n",
       "       'occupied_housing_units', 'median_household_income', 'month',\n",
       "       'miles_from_downtown'],\n",
       "      dtype='object')"
      ]
     },
     "execution_count": 38,
     "metadata": {},
     "output_type": "execute_result"
    }
   ],
   "source": [
    "holdout.columns"
   ]
  },
  {
   "cell_type": "code",
   "execution_count": 39,
   "metadata": {},
   "outputs": [],
   "source": [
    "holdout[\"house_years\"] = abs(holdout[\"yr_renovated\"]-holdout[\"yr_built\"])\n",
    "holdout[\"house_age_2015\"] = 2015 - holdout[\"yr_built\"]\n"
   ]
  },
  {
   "cell_type": "code",
   "execution_count": 40,
   "metadata": {},
   "outputs": [],
   "source": [
    "holdout.drop(columns= [\"yr_built\", \"yr_renovated\"], inplace = True)"
   ]
  },
  {
   "cell_type": "code",
   "execution_count": 41,
   "metadata": {},
   "outputs": [
    {
     "data": {
      "text/plain": [
       "(4323, 74)"
      ]
     },
     "execution_count": 41,
     "metadata": {},
     "output_type": "execute_result"
    }
   ],
   "source": [
    "holdout.shape"
   ]
  },
  {
   "cell_type": "code",
   "execution_count": 42,
   "metadata": {},
   "outputs": [],
   "source": [
    "\n",
    "waterfront_dummies_holdout = pd.get_dummies(holdout[\"waterfront\"], prefix=\"wfront\",  drop_first = True)\n",
    "view_dummies_holdout = pd.get_dummies(holdout[\"view\"], prefix=\"view\", drop_first = True)\n",
    "grade_dummies_holdout = pd.get_dummies(holdout[\"grade\"], prefix=\"grade\",  drop_first = True)\n",
    "zipcode_dummies_holdout = pd.get_dummies(holdout[\"zipcode\"], prefix=\"zipcode\",  drop_first = True)\n",
    "bedroom_dummies_holdout = pd.get_dummies(holdout[\"bedrooms\"], prefix=\"rooms\",  drop_first = True)\n",
    "bathroom_dummies_holdout = pd.get_dummies(holdout[\"bathrooms\"], prefix=\"bathrooms\", drop_first = True)\n",
    "month_dummies_holdout = pd.get_dummies(holdout[\"month\"], prefix=\"month\", drop_first = True)"
   ]
  },
  {
   "cell_type": "code",
   "execution_count": 43,
   "metadata": {},
   "outputs": [],
   "source": [
    "holdout = pd.concat([holdout, waterfront_dummies_holdout, view_dummies_holdout, grade_dummies_holdout, zipcode_dummies_holdout , bedroom_dummies_holdout, bathroom_dummies_holdout, month_dummies_holdout], axis=1)"
   ]
  },
  {
   "cell_type": "code",
   "execution_count": 44,
   "metadata": {
    "scrolled": true
   },
   "outputs": [
    {
     "name": "stdout",
     "output_type": "stream",
     "text": [
      "(4323, 201)\n"
     ]
    }
   ],
   "source": [
    "print(holdout.shape)"
   ]
  },
  {
   "cell_type": "code",
   "execution_count": 45,
   "metadata": {
    "scrolled": true
   },
   "outputs": [
    {
     "ename": "FileNotFoundError",
     "evalue": "[Errno 2] File b'final_data.csv' does not exist: b'final_data.csv'",
     "output_type": "error",
     "traceback": [
      "\u001b[0;31m---------------------------------------------------------------------------\u001b[0m",
      "\u001b[0;31mFileNotFoundError\u001b[0m                         Traceback (most recent call last)",
      "\u001b[0;32m<ipython-input-45-ae08e249bb0e>\u001b[0m in \u001b[0;36m<module>\u001b[0;34m()\u001b[0m\n\u001b[0;32m----> 1\u001b[0;31m \u001b[0mdata_fin\u001b[0m \u001b[0;34m=\u001b[0m \u001b[0mpd\u001b[0m\u001b[0;34m.\u001b[0m\u001b[0mread_csv\u001b[0m\u001b[0;34m(\u001b[0m\u001b[0;34m\"final_data.csv\"\u001b[0m\u001b[0;34m)\u001b[0m\u001b[0;34m\u001b[0m\u001b[0;34m\u001b[0m\u001b[0m\n\u001b[0m",
      "\u001b[0;32m/opt/anaconda3/envs/learn-env/lib/python3.6/site-packages/pandas/io/parsers.py\u001b[0m in \u001b[0;36mparser_f\u001b[0;34m(filepath_or_buffer, sep, delimiter, header, names, index_col, usecols, squeeze, prefix, mangle_dupe_cols, dtype, engine, converters, true_values, false_values, skipinitialspace, skiprows, skipfooter, nrows, na_values, keep_default_na, na_filter, verbose, skip_blank_lines, parse_dates, infer_datetime_format, keep_date_col, date_parser, dayfirst, cache_dates, iterator, chunksize, compression, thousands, decimal, lineterminator, quotechar, quoting, doublequote, escapechar, comment, encoding, dialect, error_bad_lines, warn_bad_lines, delim_whitespace, low_memory, memory_map, float_precision)\u001b[0m\n\u001b[1;32m    683\u001b[0m         )\n\u001b[1;32m    684\u001b[0m \u001b[0;34m\u001b[0m\u001b[0m\n\u001b[0;32m--> 685\u001b[0;31m         \u001b[0;32mreturn\u001b[0m \u001b[0m_read\u001b[0m\u001b[0;34m(\u001b[0m\u001b[0mfilepath_or_buffer\u001b[0m\u001b[0;34m,\u001b[0m \u001b[0mkwds\u001b[0m\u001b[0;34m)\u001b[0m\u001b[0;34m\u001b[0m\u001b[0;34m\u001b[0m\u001b[0m\n\u001b[0m\u001b[1;32m    686\u001b[0m \u001b[0;34m\u001b[0m\u001b[0m\n\u001b[1;32m    687\u001b[0m     \u001b[0mparser_f\u001b[0m\u001b[0;34m.\u001b[0m\u001b[0m__name__\u001b[0m \u001b[0;34m=\u001b[0m \u001b[0mname\u001b[0m\u001b[0;34m\u001b[0m\u001b[0;34m\u001b[0m\u001b[0m\n",
      "\u001b[0;32m/opt/anaconda3/envs/learn-env/lib/python3.6/site-packages/pandas/io/parsers.py\u001b[0m in \u001b[0;36m_read\u001b[0;34m(filepath_or_buffer, kwds)\u001b[0m\n\u001b[1;32m    455\u001b[0m \u001b[0;34m\u001b[0m\u001b[0m\n\u001b[1;32m    456\u001b[0m     \u001b[0;31m# Create the parser.\u001b[0m\u001b[0;34m\u001b[0m\u001b[0;34m\u001b[0m\u001b[0;34m\u001b[0m\u001b[0m\n\u001b[0;32m--> 457\u001b[0;31m     \u001b[0mparser\u001b[0m \u001b[0;34m=\u001b[0m \u001b[0mTextFileReader\u001b[0m\u001b[0;34m(\u001b[0m\u001b[0mfp_or_buf\u001b[0m\u001b[0;34m,\u001b[0m \u001b[0;34m**\u001b[0m\u001b[0mkwds\u001b[0m\u001b[0;34m)\u001b[0m\u001b[0;34m\u001b[0m\u001b[0;34m\u001b[0m\u001b[0m\n\u001b[0m\u001b[1;32m    458\u001b[0m \u001b[0;34m\u001b[0m\u001b[0m\n\u001b[1;32m    459\u001b[0m     \u001b[0;32mif\u001b[0m \u001b[0mchunksize\u001b[0m \u001b[0;32mor\u001b[0m \u001b[0miterator\u001b[0m\u001b[0;34m:\u001b[0m\u001b[0;34m\u001b[0m\u001b[0;34m\u001b[0m\u001b[0m\n",
      "\u001b[0;32m/opt/anaconda3/envs/learn-env/lib/python3.6/site-packages/pandas/io/parsers.py\u001b[0m in \u001b[0;36m__init__\u001b[0;34m(self, f, engine, **kwds)\u001b[0m\n\u001b[1;32m    893\u001b[0m             \u001b[0mself\u001b[0m\u001b[0;34m.\u001b[0m\u001b[0moptions\u001b[0m\u001b[0;34m[\u001b[0m\u001b[0;34m\"has_index_names\"\u001b[0m\u001b[0;34m]\u001b[0m \u001b[0;34m=\u001b[0m \u001b[0mkwds\u001b[0m\u001b[0;34m[\u001b[0m\u001b[0;34m\"has_index_names\"\u001b[0m\u001b[0;34m]\u001b[0m\u001b[0;34m\u001b[0m\u001b[0;34m\u001b[0m\u001b[0m\n\u001b[1;32m    894\u001b[0m \u001b[0;34m\u001b[0m\u001b[0m\n\u001b[0;32m--> 895\u001b[0;31m         \u001b[0mself\u001b[0m\u001b[0;34m.\u001b[0m\u001b[0m_make_engine\u001b[0m\u001b[0;34m(\u001b[0m\u001b[0mself\u001b[0m\u001b[0;34m.\u001b[0m\u001b[0mengine\u001b[0m\u001b[0;34m)\u001b[0m\u001b[0;34m\u001b[0m\u001b[0;34m\u001b[0m\u001b[0m\n\u001b[0m\u001b[1;32m    896\u001b[0m \u001b[0;34m\u001b[0m\u001b[0m\n\u001b[1;32m    897\u001b[0m     \u001b[0;32mdef\u001b[0m \u001b[0mclose\u001b[0m\u001b[0;34m(\u001b[0m\u001b[0mself\u001b[0m\u001b[0;34m)\u001b[0m\u001b[0;34m:\u001b[0m\u001b[0;34m\u001b[0m\u001b[0;34m\u001b[0m\u001b[0m\n",
      "\u001b[0;32m/opt/anaconda3/envs/learn-env/lib/python3.6/site-packages/pandas/io/parsers.py\u001b[0m in \u001b[0;36m_make_engine\u001b[0;34m(self, engine)\u001b[0m\n\u001b[1;32m   1133\u001b[0m     \u001b[0;32mdef\u001b[0m \u001b[0m_make_engine\u001b[0m\u001b[0;34m(\u001b[0m\u001b[0mself\u001b[0m\u001b[0;34m,\u001b[0m \u001b[0mengine\u001b[0m\u001b[0;34m=\u001b[0m\u001b[0;34m\"c\"\u001b[0m\u001b[0;34m)\u001b[0m\u001b[0;34m:\u001b[0m\u001b[0;34m\u001b[0m\u001b[0;34m\u001b[0m\u001b[0m\n\u001b[1;32m   1134\u001b[0m         \u001b[0;32mif\u001b[0m \u001b[0mengine\u001b[0m \u001b[0;34m==\u001b[0m \u001b[0;34m\"c\"\u001b[0m\u001b[0;34m:\u001b[0m\u001b[0;34m\u001b[0m\u001b[0;34m\u001b[0m\u001b[0m\n\u001b[0;32m-> 1135\u001b[0;31m             \u001b[0mself\u001b[0m\u001b[0;34m.\u001b[0m\u001b[0m_engine\u001b[0m \u001b[0;34m=\u001b[0m \u001b[0mCParserWrapper\u001b[0m\u001b[0;34m(\u001b[0m\u001b[0mself\u001b[0m\u001b[0;34m.\u001b[0m\u001b[0mf\u001b[0m\u001b[0;34m,\u001b[0m \u001b[0;34m**\u001b[0m\u001b[0mself\u001b[0m\u001b[0;34m.\u001b[0m\u001b[0moptions\u001b[0m\u001b[0;34m)\u001b[0m\u001b[0;34m\u001b[0m\u001b[0;34m\u001b[0m\u001b[0m\n\u001b[0m\u001b[1;32m   1136\u001b[0m         \u001b[0;32melse\u001b[0m\u001b[0;34m:\u001b[0m\u001b[0;34m\u001b[0m\u001b[0;34m\u001b[0m\u001b[0m\n\u001b[1;32m   1137\u001b[0m             \u001b[0;32mif\u001b[0m \u001b[0mengine\u001b[0m \u001b[0;34m==\u001b[0m \u001b[0;34m\"python\"\u001b[0m\u001b[0;34m:\u001b[0m\u001b[0;34m\u001b[0m\u001b[0;34m\u001b[0m\u001b[0m\n",
      "\u001b[0;32m/opt/anaconda3/envs/learn-env/lib/python3.6/site-packages/pandas/io/parsers.py\u001b[0m in \u001b[0;36m__init__\u001b[0;34m(self, src, **kwds)\u001b[0m\n\u001b[1;32m   1915\u001b[0m         \u001b[0mkwds\u001b[0m\u001b[0;34m[\u001b[0m\u001b[0;34m\"usecols\"\u001b[0m\u001b[0;34m]\u001b[0m \u001b[0;34m=\u001b[0m \u001b[0mself\u001b[0m\u001b[0;34m.\u001b[0m\u001b[0musecols\u001b[0m\u001b[0;34m\u001b[0m\u001b[0;34m\u001b[0m\u001b[0m\n\u001b[1;32m   1916\u001b[0m \u001b[0;34m\u001b[0m\u001b[0m\n\u001b[0;32m-> 1917\u001b[0;31m         \u001b[0mself\u001b[0m\u001b[0;34m.\u001b[0m\u001b[0m_reader\u001b[0m \u001b[0;34m=\u001b[0m \u001b[0mparsers\u001b[0m\u001b[0;34m.\u001b[0m\u001b[0mTextReader\u001b[0m\u001b[0;34m(\u001b[0m\u001b[0msrc\u001b[0m\u001b[0;34m,\u001b[0m \u001b[0;34m**\u001b[0m\u001b[0mkwds\u001b[0m\u001b[0;34m)\u001b[0m\u001b[0;34m\u001b[0m\u001b[0;34m\u001b[0m\u001b[0m\n\u001b[0m\u001b[1;32m   1918\u001b[0m         \u001b[0mself\u001b[0m\u001b[0;34m.\u001b[0m\u001b[0munnamed_cols\u001b[0m \u001b[0;34m=\u001b[0m \u001b[0mself\u001b[0m\u001b[0;34m.\u001b[0m\u001b[0m_reader\u001b[0m\u001b[0;34m.\u001b[0m\u001b[0munnamed_cols\u001b[0m\u001b[0;34m\u001b[0m\u001b[0;34m\u001b[0m\u001b[0m\n\u001b[1;32m   1919\u001b[0m \u001b[0;34m\u001b[0m\u001b[0m\n",
      "\u001b[0;32mpandas/_libs/parsers.pyx\u001b[0m in \u001b[0;36mpandas._libs.parsers.TextReader.__cinit__\u001b[0;34m()\u001b[0m\n",
      "\u001b[0;32mpandas/_libs/parsers.pyx\u001b[0m in \u001b[0;36mpandas._libs.parsers.TextReader._setup_parser_source\u001b[0;34m()\u001b[0m\n",
      "\u001b[0;31mFileNotFoundError\u001b[0m: [Errno 2] File b'final_data.csv' does not exist: b'final_data.csv'"
     ]
    }
   ],
   "source": [
    "data_fin = pd.read_csv(\"final_data.csv\")"
   ]
  },
  {
   "cell_type": "code",
   "execution_count": 46,
   "metadata": {},
   "outputs": [
    {
     "name": "stdout",
     "output_type": "stream",
     "text": [
      "Bakeoff_modeling_process.ipynb        Book 4 Adding more data.ipynb\r\n",
      "Book 2.ipynb                          Exploratory Data Analysis.ipynb\r\n",
      "Book 3 Stats Version THIS WORKS.ipynb Predict_holdout.ipynb\r\n"
     ]
    }
   ],
   "source": [
    "!ls"
   ]
  },
  {
   "cell_type": "code",
   "execution_count": null,
   "metadata": {},
   "outputs": [],
   "source": []
  },
  {
   "cell_type": "markdown",
   "metadata": {},
   "source": [
    "## Step 3: Predict the holdout set"
   ]
  },
  {
   "cell_type": "code",
   "execution_count": null,
   "metadata": {},
   "outputs": [],
   "source": [
    "selected_columns = ['bedrooms', 'bathrooms', 'sqft_living', 'sqft_lot', 'floors',\n",
    "       'waterfront', 'view', 'grade', 'sqft_above', 'sqft_basement',\n",
    "       'yr_renovated', 'lat', 'sqft_living15', 'sqft_lot15',\n",
    "       'part_time_earnings', 'no_earnings', 'car_truck_van', 'bike_walk_other',\n",
    "       'work_home', 'less_than_hs', 'high_school_grad', 'associates',\n",
    "       'bachelors', 'masters', 'professional_school_degree', 'doctorate',\n",
    "       'public_school_enrollment', 'private_school_enrollment',\n",
    "       'no_school_enrollment', 'rented_and_unoccupied', 'for_sale_only',\n",
    "       'sold_and_unoccupied', 'seasonal_or_rec_use', 'vacant_other_reasons',\n",
    "       'in_occupied_housing_units', 'adult_correctional_facility',\n",
    "       'nursing_facilities', 'other_institutional',\n",
    "       'house_owned_with_mortgage', 'vacant_households', 'single_guardian',\n",
    "       'male', 'female', 'median_age', 'male_median_age', 'female_median_age',\n",
    "       'population', 'population_density_per_sq_mile', 'median_home_value',\n",
    "       'land_area', 'water_area_sq_mile', 'median_household_income',\n",
    "       'house_years', 'good_grade', 'wfront_1', 'view_1', 'view_2', 'view_3',\n",
    "       'view_4', 'grade_5', 'grade_6', 'grade_7', 'grade_9', 'grade_10',\n",
    "       'grade_11', 'grade_12', 'grade_13', 'zipcode_98002', 'zipcode_98003',\n",
    "       'zipcode_98004', 'zipcode_98006', 'zipcode_98023', 'zipcode_98033',\n",
    "       'zipcode_98039', 'zipcode_98040', 'zipcode_98042', 'zipcode_98075',\n",
    "       'zipcode_98105', 'zipcode_98112', 'zipcode_98168', 'zipcode_98199',\n",
    "       'rooms_2.0', 'rooms_3.0', 'rooms_4.0', 'rooms_5.0', 'bathrooms_1.0',\n",
    "       'bathrooms_1.5', 'bathrooms_1.75', 'bathrooms_3.0', 'bathrooms_3.25',\n",
    "       'bathrooms_3.5', 'bathrooms_3.75', 'bathrooms_4.0', 'bathrooms_4.25',\n",
    "       'bathrooms_4.5', 'bathrooms_4.75', 'bathrooms_5.25', 'bathrooms_5.5',\n",
    "       'bathrooms_5.75', 'bathrooms_7.75']"
   ]
  },
  {
   "cell_type": "code",
   "execution_count": null,
   "metadata": {},
   "outputs": [],
   "source": [
    "# final_answers = final_model.predict(transformed_holdout)\n",
    "price_prediction=lm_final.predict(holdout[selected_columns])"
   ]
  },
  {
   "cell_type": "markdown",
   "metadata": {},
   "source": [
    "## Step 4: Export your predictions"
   ]
  },
  {
   "cell_type": "code",
   "execution_count": null,
   "metadata": {},
   "outputs": [],
   "source": [
    "# final_answer.to_csv('housing_preds_your_name.csv')\n",
    "\n",
    "final_answer_df = pd.DataFrame(price_prediction, columns=['holdout_prices'])\n",
    "\n",
    "final_answer_df.to_csv('Dorjey_Sherpa_prediction.csv')"
   ]
  }
 ],
 "metadata": {
  "kernelspec": {
   "display_name": "Python 3",
   "language": "python",
   "name": "python3"
  },
  "language_info": {
   "codemirror_mode": {
    "name": "ipython",
    "version": 3
   },
   "file_extension": ".py",
   "mimetype": "text/x-python",
   "name": "python",
   "nbconvert_exporter": "python",
   "pygments_lexer": "ipython3",
   "version": "3.6.9"
  }
 },
 "nbformat": 4,
 "nbformat_minor": 2
}
