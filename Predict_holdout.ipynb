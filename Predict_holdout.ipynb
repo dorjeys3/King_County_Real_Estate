{
 "cells": [
  {
   "cell_type": "code",
   "execution_count": 1,
   "metadata": {},
   "outputs": [],
   "source": [
    "import pandas as pd\n",
    "pd.set_option('display.max_columns', 300)"
   ]
  },
  {
   "cell_type": "markdown",
   "metadata": {},
   "source": [
    "## Step 1: Read in hold out data, scalers, and best model"
   ]
  },
  {
   "cell_type": "code",
   "execution_count": 15,
   "metadata": {},
   "outputs": [],
   "source": [
    "# holdout = pd.read_csv('resources/movies_holdout_features.csv', index_col=0)"
   ]
  },
  {
   "cell_type": "code",
   "execution_count": null,
   "metadata": {},
   "outputs": [],
   "source": [
    "price_prediction_model=pickle.load(open(\"lm_final.pickle\", \"rb\"))"
   ]
  },
  {
   "cell_type": "markdown",
   "metadata": {},
   "source": [
    "## Step 2: Feature Engineering for holdout set"
   ]
  },
  {
   "cell_type": "markdown",
   "metadata": {},
   "source": [
    "Remember we have to perform the same transformations on our holdout data (feature engineering, extreme values, and scaling) that we performed on the original data."
   ]
  },
  {
   "cell_type": "code",
   "execution_count": null,
   "metadata": {},
   "outputs": [],
   "source": [
    "# transformed_holdout = final_scaler(holdout)"
   ]
  },
  {
   "cell_type": "markdown",
   "metadata": {},
   "source": [
    "## Step 3: Predict the holdout set"
   ]
  },
  {
   "cell_type": "code",
   "execution_count": null,
   "metadata": {},
   "outputs": [],
   "source": [
    "selected_columns = ['bedrooms', 'bathrooms', 'sqft_living', 'sqft_lot', 'floors',\n",
    "       'waterfront', 'view', 'grade', 'sqft_above', 'sqft_basement',\n",
    "       'yr_renovated', 'lat', 'sqft_living15', 'sqft_lot15',\n",
    "       'part_time_earnings', 'no_earnings', 'car_truck_van', 'bike_walk_other',\n",
    "       'work_home', 'less_than_hs', 'high_school_grad', 'associates',\n",
    "       'bachelors', 'masters', 'professional_school_degree', 'doctorate',\n",
    "       'public_school_enrollment', 'private_school_enrollment',\n",
    "       'no_school_enrollment', 'rented_and_unoccupied', 'for_sale_only',\n",
    "       'sold_and_unoccupied', 'seasonal_or_rec_use', 'vacant_other_reasons',\n",
    "       'in_occupied_housing_units', 'adult_correctional_facility',\n",
    "       'nursing_facilities', 'other_institutional',\n",
    "       'house_owned_with_mortgage', 'vacant_households', 'single_guardian',\n",
    "       'male', 'female', 'median_age', 'male_median_age', 'female_median_age',\n",
    "       'population', 'population_density_per_sq_mile', 'median_home_value',\n",
    "       'land_area', 'water_area_sq_mile', 'median_household_income',\n",
    "       'house_years', 'good_grade', 'wfront_1', 'view_1', 'view_2', 'view_3',\n",
    "       'view_4', 'grade_5', 'grade_6', 'grade_7', 'grade_9', 'grade_10',\n",
    "       'grade_11', 'grade_12', 'grade_13', 'zipcode_98002', 'zipcode_98003',\n",
    "       'zipcode_98004', 'zipcode_98006', 'zipcode_98023', 'zipcode_98033',\n",
    "       'zipcode_98039', 'zipcode_98040', 'zipcode_98042', 'zipcode_98075',\n",
    "       'zipcode_98105', 'zipcode_98112', 'zipcode_98168', 'zipcode_98199',\n",
    "       'rooms_2.0', 'rooms_3.0', 'rooms_4.0', 'rooms_5.0', 'bathrooms_1.0',\n",
    "       'bathrooms_1.5', 'bathrooms_1.75', 'bathrooms_3.0', 'bathrooms_3.25',\n",
    "       'bathrooms_3.5', 'bathrooms_3.75', 'bathrooms_4.0', 'bathrooms_4.25',\n",
    "       'bathrooms_4.5', 'bathrooms_4.75', 'bathrooms_5.25', 'bathrooms_5.5',\n",
    "       'bathrooms_5.75', 'bathrooms_7.75']"
   ]
  },
  {
   "cell_type": "code",
   "execution_count": null,
   "metadata": {},
   "outputs": [],
   "source": [
    "# final_answers = final_model.predict(transformed_holdout)"
   ]
  },
  {
   "cell_type": "markdown",
   "metadata": {},
   "source": [
    "## Step 4: Export your predictions"
   ]
  },
  {
   "cell_type": "code",
   "execution_count": null,
   "metadata": {},
   "outputs": [],
   "source": [
    "# final_answer.to_csv('housing_preds_your_name.csv')"
   ]
  }
 ],
 "metadata": {
  "kernelspec": {
   "display_name": "Python 3",
   "language": "python",
   "name": "python3"
  },
  "language_info": {
   "codemirror_mode": {
    "name": "ipython",
    "version": 3
   },
   "file_extension": ".py",
   "mimetype": "text/x-python",
   "name": "python",
   "nbconvert_exporter": "python",
   "pygments_lexer": "ipython3",
   "version": "3.6.9"
  }
 },
 "nbformat": 4,
 "nbformat_minor": 2
}
