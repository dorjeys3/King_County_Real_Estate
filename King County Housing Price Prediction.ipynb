{
 "cells": [
  {
   "cell_type": "markdown",
   "metadata": {},
   "source": [
    "# King County Housing Price Prediction\n",
    "\n",
    "![housing](./images/HOUSING-IMAGE.png)\n",
    "\n",
    "## TL;DR:\n",
    "- Naive Model has a R Square:  0.703 and Root Mean Squared Error:  198865.03\n",
    "- Linear Regression has a R Square:  0.843 and Root Mean Squared Error:  151170.08 using SelectKBest. \n",
    "- Log Tranformation Regression has a R Square:  0.7976322510661107 and Root Mean Squared Error: 157168.25 using SelectKBest. \n",
    "- Polynomial Second Degree Tranformation has a R Square: 352526.055 and Root Mean Squared Error: 392172.30 using SelectKBest.\n",
    "\n",
    "## Overview: \n",
    "#### Due to COVID-19, a lot of people are working remotely and have moved off to states with friendlier living cost. However, before moving, we search the internet to find a house for the best price. Therefore, companies like Zillow and Streeteasy might want to make sure that their customers get the best deals for the house. In order to do that, they would need a crystal ball that would predict the prices. Unfortunatly, crystal balls do not exisit but thankfully, Data Scientist do and we can create a Machine Learning algorithm that can predict the housing price given certain features. \n",
    "\n",
    "#### In this project, I will create predictive model that will predict the price of a house given certain features. In order to do so, I will first conduct an exploratory data analysis to examine the dataset. I will then perfom feature engeinering and feature selection, along with linear and non-linear regression methods to measure R square values and Root Mean Squar Error to find the optimal model.   \n",
    "\n",
    "\n",
    "#### \n",
    "\n",
    "\n",
    "\n",
    "\n",
    "\n",
    "\n",
    "\n",
    "#### The data used in this project was provided by Flatiron School and gathered via data entry by Brendan Ferris to fulfil the dataset. \n",
    "- kc_house_data_train.csv is the dataset used for training the model\n",
    "- kc_house_data_test_features.csv is the dataset used for predicing the price of the house via the training model\n",
    "- bedroomsfilled.csv is a data entry set from zillow to fill out NaN values for bedrooms == 0 \n",
    "- zip_code_extra_data_fixed.csv is a data entry set from https://www.unitedstateszipcodes.org/ \n",
    "- prices.csv is the dataset extracted from the training set to decrease confusion\n",
    "- date.csv is the dataset extracted from the training set to decrease confusion\n",
    "\n",
    "\n",
    "\n"
   ]
  },
  {
   "cell_type": "code",
   "execution_count": null,
   "metadata": {},
   "outputs": [],
   "source": []
  }
 ],
 "metadata": {
  "kernelspec": {
   "display_name": "learn-env",
   "language": "python",
   "name": "learn-env"
  },
  "language_info": {
   "codemirror_mode": {
    "name": "ipython",
    "version": 3
   },
   "file_extension": ".py",
   "mimetype": "text/x-python",
   "name": "python",
   "nbconvert_exporter": "python",
   "pygments_lexer": "ipython3",
   "version": "3.6.9"
  }
 },
 "nbformat": 4,
 "nbformat_minor": 4
}
